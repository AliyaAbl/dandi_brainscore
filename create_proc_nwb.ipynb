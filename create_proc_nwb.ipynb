{
 "cells": [
  {
   "cell_type": "code",
   "execution_count": 16,
   "metadata": {},
   "outputs": [],
   "source": [
    "from datetime import datetime\n",
    "from uuid import uuid4\n",
    "from dateutil.tz import tzlocal\n",
    "import numpy as np\n",
    "import scipy.io\n",
    "import os, yaml, glob, json\n",
    "import pandas as pd\n",
    "from nwbwidgets import nwb2widget\n",
    "import pynwb\n",
    "from pynwb import NWBHDF5IO, NWBFile, TimeSeries\n",
    "from pynwb.behavior import Position, SpatialSeries\n",
    "from pynwb.epoch import TimeIntervals\n",
    "from pynwb.file import Subject\n",
    "from pynwb.misc import Units        \n",
    "from pynwb.ecephys import SpikeEventSeries\n"
   ]
  },
  {
   "cell_type": "code",
   "execution_count": 1,
   "metadata": {
    "notebookRunGroups": {
     "groupValue": "1"
    }
   },
   "outputs": [],
   "source": [
    "def read_names(filename):\n",
    "    assignment  = filename.split('.')[0].split('-')[1]\n",
    "    number      = filename.split('.')[0].split('-')[2]\n",
    "    return np.asarray([assignment, number])\n",
    "\n",
    "def create_nwb(config, path):\n",
    "\n",
    "    SessionDate = path.split('/')[-1].split('.')[-2].split('_')[0]\n",
    "    SessionTime = path.split('/')[-1].split('.')[-2].split('_')[1]\n",
    "    SubjectName = path.split('/')[-1].split('.')[1].split('_')[1]\n",
    "    date_format = \"%Y%m%d %H%M%S\"\n",
    "\n",
    "    if config['subject']['subject_id'].lower() != SubjectName.lower():\n",
    "        raise ValueError(\"Subject Name incorrect.\")\n",
    "    \n",
    "    session_start_time = datetime.strptime(SessionDate+' '+SessionTime, date_format)\n",
    "\n",
    "    ################ CREATE NWB FILE WITH METADATA ################################\n",
    "    ###############################################################################\n",
    "    nwbfile = NWBFile(\n",
    "        session_description     = config['session_info']['session_description'],\n",
    "        identifier              = config['metadata']['identifier'],\n",
    "        session_start_time      = session_start_time,\n",
    "        file_create_date        = config['metadata']['file_create_date'],\n",
    "        experimenter            = config['general']['lab_info']['experimenter'],\n",
    "        experiment_description  = config['general']['experiment_info']['experiment_description'],\n",
    "        session_id              = config['session_info']['session_id'],\n",
    "        lab                     = config['general']['lab_info']['lab'],                     \n",
    "        institution             = config['general']['lab_info']['institution'],                                    \n",
    "        keywords                = config['general']['experiment_info']['keywords'],\n",
    "        protocol                = config['general']['experiment_info']['protocol'],\n",
    "        related_publications    = config['general']['experiment_info']['related_publications'],\n",
    "        surgery                 = config['general']['experiment_info']['surgery']\n",
    "    )\n",
    "\n",
    "    ################ CREATE SUBJECT ################################################\n",
    "    ################################################################################\n",
    "    nwbfile.subject = Subject(\n",
    "        subject_id  = config['subject']['subject_id'],\n",
    "        date_of_birth= config['subject']['date_of_birth'],\n",
    "        species     = config['subject']['species'],\n",
    "        sex         = config['subject']['sex'],\n",
    "    )\n",
    "\n",
    "    ################ CREATE HARDWARE LINKS #########################################\n",
    "    ################################################################################\n",
    "    nwbfile.create_device(\n",
    "        name        = config['hardware']['system_name'], \n",
    "        description = config['hardware']['system_description'], \n",
    "        manufacturer= config['hardware']['system_manuf']\n",
    "    )\n",
    "\n",
    "    nwbfile.create_device(\n",
    "        name        = config['hardware']['adapter_manuf'], \n",
    "        description = config['hardware']['adapter_description'], \n",
    "        manufacturer= config['hardware']['adapter_manuf']\n",
    "    )\n",
    "\n",
    "    nwbfile.create_device(\n",
    "        name        = config['hardware']['monitor_name'], \n",
    "        description = config['hardware']['monitor_description'], \n",
    "        manufacturer= config['hardware']['monitor_manuf']\n",
    "    )\n",
    "\n",
    "    nwbfile.create_device(\n",
    "        name        = config['hardware']['photodiode_name'], \n",
    "        description = config['hardware']['photodiode_description'], \n",
    "        manufacturer= config['hardware']['photodiode_manuf']\n",
    "    )\n",
    "    \n",
    "    nwbfile.create_device(\n",
    "        name        = 'Software Used', \n",
    "        description = str(['Mworks Client: '+config['software']['mwclient_version'],\\\n",
    "                        'Mworks Server: '+config['software']['mwserver_version'],\\\n",
    "                        'OS: '+config['software']['OS'],\\\n",
    "                        'Intan :'+config['software']['intan_version']])\n",
    "    )\n",
    "\n",
    "    ################ CREATE ELECTRODE LINKS ########################################\n",
    "    ################################################################################\n",
    "    electrodes = nwbfile.create_device(\n",
    "        name        = config['hardware']['electrode_name'], \n",
    "        description = config['hardware']['electrode_description'], \n",
    "        manufacturer= config['hardware']['electrode_manuf']\n",
    "    )\n",
    "\n",
    "    all_files = sorted(os.listdir(os.path.join(path, 'SpikeTimes')))\n",
    "    \n",
    "    name_accumulator = []\n",
    "    for file in all_files:\n",
    "        name_accumulator.append(read_names(file))\n",
    "    names = np.vstack(name_accumulator)\n",
    "\n",
    "    nwbfile.add_electrode_column(name=\"label\", description=\"label of electrode\")\n",
    "    groups, count_groups = np.unique(names[:,0], return_counts =True)\n",
    "    ids                  = names[:,1]\n",
    "    counter              = 0\n",
    "    # create ElectrodeGroups A, B, C, ..\n",
    "    for group, count_group in zip(groups, count_groups):\n",
    "        electrode_group = nwbfile.create_electrode_group(\n",
    "            name        = \"group_{}\".format(group),\n",
    "            description = \"Serialnumber: {}. Adapter Version: {}\".format(config['array_info']['array_{}'.format(group)]['serialnumber'],\\\n",
    "                            config['array_info']['array_{}'.format(group)]['adapterversion']),\n",
    "            device      = electrodes,\n",
    "            location    = 'hemisphere, region, subregion: '+str([config['array_info']['array_{}'.format(group)]['hemisphere'],\\\n",
    "                                config['array_info']['array_{}'.format(group)]['region'],\n",
    "                                config['array_info']['array_{}'.format(group)]['subregion']]),\n",
    "            position    = config['array_info']['array_{}'.format(group)]['position']\n",
    "        )\n",
    "\n",
    "        # create Electrodes 001, 002, ..., 032 in ElectrodeGroups per channel\n",
    "        for ichannel in range(count_group):\n",
    "            nwbfile.add_electrode(\n",
    "                group       = electrode_group,\n",
    "                label       = ids[counter],\n",
    "                location    = 'row, col, elec'+str(json.loads(config['array_info']['intan_electrode_labeling_[row,col,id]'])[counter])\n",
    "            )\n",
    "            counter += 1     \n",
    "\n",
    "    nwbfile.add_unit_column(name=\"unit\", description=\"millisecond\")\n",
    "    for filename, i in zip(sorted(os.listdir(os.path.join(path, 'SpikeTimes'))), range(len(os.listdir(os.path.join(path, 'SpikeTimes'))))):\n",
    "        [assignment, number] = read_names(filename)\n",
    "        file_path = os.path.join(path, 'SpikeTimes', filename)\n",
    "        data = scipy.io.loadmat(file_path)\n",
    "        nwbfile.add_unit(\n",
    "            spike_times = data['spike_time_ms'].flatten(), \n",
    "            electrodes  = [i],\n",
    "            electrode_group = nwbfile.electrode_groups[f'group_{assignment}'], \n",
    "            unit = 'ms'\n",
    "        )\n",
    "\n",
    "    last_spike = data['spike_time_ms'].flatten()[-1]\n",
    "    with open(os.path.join(path, 'NWBInfo.txt')) as f:\n",
    "        lines = f.readlines()\n",
    "        print(lines)\n",
    "\n",
    "    # nwbfile.add_trial(\n",
    "    #     start_time=0.0,\n",
    "    #     stop_time=2.0,\n",
    "    #     tags=[\"animal\"],\n",
    "    #     timeseries=[test_ts, rate_ts])\n",
    "\n",
    "    return nwbfile\n",
    "\n"
   ]
  },
  {
   "cell_type": "code",
   "execution_count": 2,
   "metadata": {
    "notebookRunGroups": {
     "groupValue": "1"
    }
   },
   "outputs": [
    {
     "ename": "NameError",
     "evalue": "name 'os' is not defined",
     "output_type": "error",
     "traceback": [
      "\u001b[0;31m---------------------------------------------------------------------------\u001b[0m",
      "\u001b[0;31mNameError\u001b[0m                                 Traceback (most recent call last)",
      "\u001b[1;32m/om/user/aliya277/dandi_brainscore/create_proc_nwb.ipynb Cell 3\u001b[0m line \u001b[0;36m5\n\u001b[1;32m      <a href='vscode-notebook-cell://ssh-remote%2Bopenmind.mit.edu/om/user/aliya277/dandi_brainscore/create_proc_nwb.ipynb#W4sdnNjb2RlLXJlbW90ZQ%3D%3D?line=2'>3</a>\u001b[0m SessionName \u001b[39m=\u001b[39m path\u001b[39m.\u001b[39msplit(\u001b[39m'\u001b[39m\u001b[39m/\u001b[39m\u001b[39m'\u001b[39m)[\u001b[39m-\u001b[39m\u001b[39m1\u001b[39m]\n\u001b[1;32m      <a href='vscode-notebook-cell://ssh-remote%2Bopenmind.mit.edu/om/user/aliya277/dandi_brainscore/create_proc_nwb.ipynb#W4sdnNjb2RlLXJlbW90ZQ%3D%3D?line=3'>4</a>\u001b[0m config_path \u001b[39m=\u001b[39m \u001b[39m'\u001b[39m\u001b[39m/om/user/aliya277/dandi_brainscore\u001b[39m\u001b[39m'\u001b[39m\n\u001b[0;32m----> <a href='vscode-notebook-cell://ssh-remote%2Bopenmind.mit.edu/om/user/aliya277/dandi_brainscore/create_proc_nwb.ipynb#W4sdnNjb2RlLXJlbW90ZQ%3D%3D?line=4'>5</a>\u001b[0m \u001b[39mwith\u001b[39;00m \u001b[39mopen\u001b[39m(os\u001b[39m.\u001b[39mpath\u001b[39m.\u001b[39mjoin(config_path,\u001b[39m\"\u001b[39m\u001b[39mconfig_nwb.yaml\u001b[39m\u001b[39m\"\u001b[39m) , \u001b[39m\"\u001b[39m\u001b[39mr\u001b[39m\u001b[39m\"\u001b[39m) \u001b[39mas\u001b[39;00m f:\n\u001b[1;32m      <a href='vscode-notebook-cell://ssh-remote%2Bopenmind.mit.edu/om/user/aliya277/dandi_brainscore/create_proc_nwb.ipynb#W4sdnNjb2RlLXJlbW90ZQ%3D%3D?line=5'>6</a>\u001b[0m         config \u001b[39m=\u001b[39m yaml\u001b[39m.\u001b[39mload(f, Loader \u001b[39m=\u001b[39m yaml\u001b[39m.\u001b[39mFullLoader)\n\u001b[1;32m      <a href='vscode-notebook-cell://ssh-remote%2Bopenmind.mit.edu/om/user/aliya277/dandi_brainscore/create_proc_nwb.ipynb#W4sdnNjb2RlLXJlbW90ZQ%3D%3D?line=7'>8</a>\u001b[0m nwbfile \u001b[39m=\u001b[39m create_nwb(config,path)\n",
      "\u001b[0;31mNameError\u001b[0m: name 'os' is not defined"
     ]
    }
   ],
   "source": [
    "path = '/om/user/aliya277/inventory/norm_FOSS.sub_pico.20230823_124104.proc'\n",
    "\n",
    "SessionName = path.split('/')[-1]\n",
    "config_path = '/om/user/aliya277/dandi_brainscore'\n",
    "with open(os.path.join(config_path,\"config_nwb.yaml\") , \"r\") as f:\n",
    "        config = yaml.load(f, Loader = yaml.FullLoader)\n",
    "\n",
    "nwbfile = create_nwb(config,path)\n",
    "# with NWBHDF5IO(os.path.join(path, f\"{SessionName}.nwb\"), \"w\") as io:\n",
    "#     io.write(nwbfile)\n",
    "nwbfile"
   ]
  },
  {
   "cell_type": "code",
   "execution_count": 13,
   "metadata": {},
   "outputs": [
    {
     "data": {
      "application/vnd.jupyter.widget-view+json": {
       "model_id": "ea951da7271542a0ac8a3dcead0cd72c",
       "version_major": 2,
       "version_minor": 0
      },
      "text/plain": [
       "VBox(children=(HBox(children=(Label(value='session_description:', layout=Layout(max_height='40px', max_width='…"
      ]
     },
     "execution_count": 13,
     "metadata": {},
     "output_type": "execute_result"
    }
   ],
   "source": [
    "nwb2widget(nwbfile)"
   ]
  }
 ],
 "metadata": {
  "kernelspec": {
   "display_name": "dandibs",
   "language": "python",
   "name": "python3"
  },
  "language_info": {
   "codemirror_mode": {
    "name": "ipython",
    "version": 3
   },
   "file_extension": ".py",
   "mimetype": "text/x-python",
   "name": "python",
   "nbconvert_exporter": "python",
   "pygments_lexer": "ipython3",
   "version": "3.10.13"
  },
  "orig_nbformat": 4
 },
 "nbformat": 4,
 "nbformat_minor": 2
}
